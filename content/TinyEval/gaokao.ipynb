{
 "cells": [
  {
   "cell_type": "code",
   "execution_count": 1,
   "metadata": {},
   "outputs": [
    {
     "name": "stderr",
     "output_type": "stream",
     "text": [
      "/data/xli/miniconda3/envs/xhr/lib/python3.9/site-packages/tqdm/auto.py:21: TqdmWarning: IProgress not found. Please update jupyter and ipywidgets. See https://ipywidgets.readthedocs.io/en/stable/user_install.html\n",
      "  from .autonotebook import tqdm as notebook_tqdm\n"
     ]
    }
   ],
   "source": [
    "from transformers import AutoModelForCausalLM, AutoTokenizer\n",
    "import json\n",
    "import random\n",
    "device = \"cuda\" # the device to load the model onto"
   ]
  },
  {
   "cell_type": "code",
   "execution_count": 3,
   "metadata": {},
   "outputs": [
    {
     "name": "stderr",
     "output_type": "stream",
     "text": [
      "Loading checkpoint shards: 100%|██████████| 4/4 [00:05<00:00,  1.34s/it]\n",
      "Special tokens have been added in the vocabulary, make sure the associated word embeddings are fine-tuned or trained.\n"
     ]
    }
   ],
   "source": [
    "\n",
    "model = AutoModelForCausalLM.from_pretrained(\n",
    "    \"Qwen2-7B-Instruct\",  # path2Qwen2\n",
    "    torch_dtype=\"auto\",\n",
    "    device_map=\"auto\"\n",
    ")\n",
    "tokenizer = AutoTokenizer.from_pretrained(\"Qwen2-7B-Instruct\")\n"
   ]
  },
  {
   "cell_type": "code",
   "execution_count": 8,
   "metadata": {},
   "outputs": [],
   "source": [
    "def chat(system, prompt, model=model, tokenizer=tokenizer):\n",
    "\n",
    "    messages = [\n",
    "    {\"role\": \"system\", \"content\": system},\n",
    "    {\"role\": \"user\", \"content\": prompt}\n",
    "        ]\n",
    "    text = tokenizer.apply_chat_template(\n",
    "        messages,\n",
    "        tokenize=False,\n",
    "        add_generation_prompt=True\n",
    "    )\n",
    "    model_inputs = tokenizer([text], return_tensors=\"pt\").to(device)\n",
    "\n",
    "    generated_ids = model.generate(\n",
    "        model_inputs.input_ids,\n",
    "        max_new_tokens=768\n",
    "    )\n",
    "    generated_ids = [\n",
    "        output_ids[len(input_ids):] for input_ids, output_ids in zip(model_inputs.input_ids, generated_ids)\n",
    "    ]\n",
    "\n",
    "    return tokenizer.batch_decode(generated_ids, skip_special_tokens=True)[0]"
   ]
  },
  {
   "cell_type": "code",
   "execution_count": 6,
   "metadata": {},
   "outputs": [
    {
     "data": {
      "text/plain": [
       "[{'instruction': '请您根据以下问题，参考相关参考选项进行作答。',\n",
       "  'input': '问题是:已知集合 A = {x | -5 < x^3 < 5}, B = {-3, -1, 0, 2, 3}，则 A ∩ B = (  ), 选项是:A: {-1, 0}, B: {2, 3}, C: {-3, -1, 0}, D: {-1, 0, 2}, 您的答案是:',\n",
       "  'output': 'A'},\n",
       " {'instruction': '请您根据以下问题，参考相关参考选项进行作答。',\n",
       "  'input': '问题是:若 z / (z - 1) = 1 + i，则 z = (  ), 选项是:A: -1 - i, B: -1 + i, C: 1 - i, D: 1 + i, 您的答案是:',\n",
       "  'output': 'C'},\n",
       " {'instruction': '请您根据以下问题，参考相关参考选项进行作答。',\n",
       "  'input': '问题是:已知向量 ā = (0, 1), b̄ = (2, x)，若 b̄ ⊥ (b̄ - 4ā)，则 x = (  ), 选项是:A: -2, B: -1, C: 1, D: 2, 您的答案是:',\n",
       "  'output': 'D'},\n",
       " {'instruction': '请您根据以下问题，参考相关参考选项进行作答。',\n",
       "  'input': '问题是:已知 cos(α + β) = m, tanαtan β = 2，则 cos(α - β) = (  ), 选项是:A: -3m, B: -m/3, C: m/3, D: 3m, 您的答案是:',\n",
       "  'output': 'A'},\n",
       " {'instruction': '请您根据以下问题，参考相关参考选项进行作答。',\n",
       "  'input': '问题是:已知圆柱和圆锥底面半径相等，侧面半径相等，且它们的高均为 √3，则圆锥的体积为 (  ), 选项是:A: 2√3π, B: 3√3π, C: 6√3π, D: 9√3π, 您的答案是:',\n",
       "  'output': 'B'},\n",
       " {'instruction': '请您根据以下问题，参考相关参考选项进行作答。',\n",
       "  'input': '问题是:已知函数 f(x) = { -x^2 - 2ax - a, x < 0; e^x + ln(x + 1), x ≥ 0 }，在 R 上单调递增，则 a 取值的范围是 (  ), 选项是:A: (-∞, 0], B: [-1, 0], C: [-1, 1], D: [0, +∞], 您的答案是:',\n",
       "  'output': 'B'},\n",
       " {'instruction': '请您根据以下问题，参考相关参考选项进行作答。',\n",
       "  'input': '问题是:当 x ∈ [0, 2π] 时，曲线 y = sin x 与 y = 2 sin (3x - π/6) 的交点个数为 (  ), 选项是:A: 3, B: 4, C: 6, D: 8, 您的答案是:',\n",
       "  'output': 'C'},\n",
       " {'instruction': '请您根据以下问题，参考相关参考选项进行作答。',\n",
       "  'input': '问题是:已知函数为 f(x) 的定义域为 R，f(x) > f(x - 1) + f(x - 2)，且当 x < 3 时 f(x) = x，则下列结论中一定正确的是 (  ), 选项是:A: f(10) > 100, B: f(20) > 1000, C: f(10) < 1000, D: f(20) < 10000, 您的答案是:',\n",
       "  'output': 'B'},\n",
       " {'instruction': '请您根据以下问题，参考相关参考选项进行作答，此题为多选题。',\n",
       "  'input': '问题是:为了理解动出口后的亩收入（单位：万元）情况，从该种植区抽取样本，得到推动出口后亩收入的样本均值 x̄ = 2.1，样本方差 s^2 = 0.01，已知该种植区以往的亩收入 X 服从正态分布 N(1.8, 0.1^2)，假设推动出口后的亩收入 Y 服从正态分布 N(x̄, s^2)，则 (  ) 若随机变量 Z 服从正态分布 N(u, σ^2)，P(Z < u + σ) ≈ 0.8413, 选项是:A: P(X > 2) > 0.2, B: P(X > 2) < 0.5, C: P(Y > 2) > 0.5, D: P(Y > 2) < 0.8, 您的答案是:',\n",
       "  'output': 'BC'},\n",
       " {'instruction': '请您根据以下问题，参考相关参考选项进行作答，此题为多选题。',\n",
       "  'input': '问题是:设函数 f(x) = (x - 1)^2(x - 4)，则 (  ), 选项是:A: x = 3 是 f(x) 的极小值点, B: 当 0 < x < 1 时，f(x) < f(x^2), C: 当 1 < x < 2 时，-4 < f(2x - 1) < 0, D: 当 -1 < x < 0 时，f(2 - x) > f(x), 您的答案是:',\n",
       "  'output': 'ACD'}]"
      ]
     },
     "execution_count": 6,
     "metadata": {},
     "output_type": "execute_result"
    }
   ],
   "source": [
    "with open('./Eval/dataset/GAOKAO_math.jsonl', 'r') as file:\n",
    "    content = json.load(file)\n",
    "content"
   ]
  },
  {
   "cell_type": "code",
   "execution_count": 9,
   "metadata": {},
   "outputs": [
    {
     "name": "stdout",
     "output_type": "stream",
     "text": [
      "The question is: 问题是:已知圆柱和圆锥底面半径相等，侧面半径相等，且它们的高均为 √3，则圆锥的体积为 (  ), 选项是:A: 2√3π, B: 3√3π, C: 6√3π, D: 9√3π, 您的答案是:\n",
      "The prediction is:  首先，我们知道圆锥的体积公式是 \\(V = \\frac{1}{3}\\pi r^2 h\\)，其中 \\(r\\) 是底面半径，\\(h\\) 是高。\n",
      "\n",
      "题目中提到圆锥和圆柱底面半径相等，侧面半径相等，但侧面半径在这个问题中不是直接用到的信息，因为计算体积主要依赖于底面半径 \\(r\\) 和高 \\(h\\)。\n",
      "\n",
      "题目还给出了高 \\(h = \\sqrt{3}\\)。\n",
      "\n",
      "所以，我们需要找到一个选项符合这个条件。\n",
      "\n",
      "选项A: \\(2\\sqrt{3}\\pi\\)，表示体积为 \\(2\\sqrt{3}\\pi\\) 的单位（假设是立方单位）。\n",
      "\n",
      "选项B: \\(3\\sqrt{3}\\pi\\)，表示体积为 \\(3\\sqrt{3}\\pi\\) 的单位。\n",
      "\n",
      "选项C: \\(6\\sqrt{3}\\pi\\)，表示体积为 \\(6\\sqrt{3}\\pi\\) 的单位。\n",
      "\n",
      "选项D: \\(9\\sqrt{3}\\pi\\)，表示体积为 \\(9\\sqrt{3}\\pi\\) 的单位。\n",
      "\n",
      "由于我们不知道具体的底面半径 \\(r\\)，但是我们知道，对于任何给定的 \\(r\\)，如果高 \\(h = \\sqrt{3}\\)，那么体积将会是 \\(\\frac{1}{3}\\pi r^2 \\cdot \\sqrt{3}\\)。\n",
      "\n",
      "为了匹配给定的选项，我们可以将上述公式简化为：\\[V = \\frac{\\sqrt{3}}{3} \\pi r^2\\] 这表明，无论 \\(r\\) 的具体值是多少，体积将总是与 \\(\\sqrt{3}\\) 相关，并且形式上与给出的选项相符。\n",
      "\n",
      "选项B: \\(3\\sqrt{3}\\pi\\)，可以通过将公式 \\[V = \\frac{\\sqrt{3}}{3} \\pi r^2\\] 与 \\(h = \\sqrt{3}\\) 结合来理解。如果我们将 \\(\\frac{\\sqrt{3}}{3}\\) 视为系数，那么要得到 \\(3\\sqrt{3}\\pi\\)，实际上是在考虑 \\(r^2\\) 的部分需要满足某种条件使得整个表达式等于 \\(3\\sqrt{3}\\pi\\)。\n",
      "\n",
      "因此，考虑到给定的选项和题目的描述，正确的答案是 **B: \\(3\\sqrt{3}\\pi)**。这符合逻辑推断，因为我们通过分析公式和给定条件能够合理地推导出正确选项。\n",
      "The answer is:  B\n"
     ]
    }
   ],
   "source": [
    "idx = random.randint(0, len(content))\n",
    "instruction, question, answer = content[idx].values()\n",
    "prompt = '{question}'.format(question=question)\n",
    "response = chat(instruction, prompt)\n",
    "print(\"The question is:\", prompt)\n",
    "print(\"The prediction is: \", response)\n",
    "print(\"The answer is: \", answer)"
   ]
  },
  {
   "cell_type": "code",
   "execution_count": null,
   "metadata": {},
   "outputs": [],
   "source": []
  }
 ],
 "metadata": {
  "kernelspec": {
   "display_name": "xhr",
   "language": "python",
   "name": "python3"
  },
  "language_info": {
   "codemirror_mode": {
    "name": "ipython",
    "version": 3
   },
   "file_extension": ".py",
   "mimetype": "text/x-python",
   "name": "python",
   "nbconvert_exporter": "python",
   "pygments_lexer": "ipython3",
   "version": "3.9.18"
  }
 },
 "nbformat": 4,
 "nbformat_minor": 2
}
