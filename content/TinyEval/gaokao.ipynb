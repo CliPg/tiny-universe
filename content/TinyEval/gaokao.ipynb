{
 "cells": [
  {
   "cell_type": "code",
   "execution_count": 10,
   "metadata": {},
   "outputs": [],
   "source": [
    "from transformers import AutoModelForCausalLM, AutoTokenizer\n",
    "import json\n",
    "import random\n",
    "device = \"cuda\" # the device to load the model onto"
   ]
  },
  {
   "cell_type": "code",
   "execution_count": 3,
   "metadata": {},
   "outputs": [
    {
     "name": "stderr",
     "output_type": "stream",
     "text": [
      "Loading checkpoint shards: 100%|██████████| 4/4 [00:06<00:00,  1.56s/it]\n",
      "Special tokens have been added in the vocabulary, make sure the associated word embeddings are fine-tuned or trained.\n"
     ]
    }
   ],
   "source": [
    "\n",
    "model = AutoModelForCausalLM.from_pretrained(\n",
    "    \"path2Qwen2\",  # path2Qwen2\n",
    "    torch_dtype=\"auto\",\n",
    "    device_map=\"auto\"\n",
    ")\n",
    "tokenizer = AutoTokenizer.from_pretrained(\"path2Qwen2\")\n"
   ]
  },
  {
   "cell_type": "code",
   "execution_count": 34,
   "metadata": {},
   "outputs": [],
   "source": [
    "def chat(system, prompt, model=model, tokenizer=tokenizer):\n",
    "\n",
    "    messages = [\n",
    "    {\"role\": \"system\", \"content\": system},\n",
    "    {\"role\": \"user\", \"content\": prompt}\n",
    "        ]\n",
    "    text = tokenizer.apply_chat_template(\n",
    "        messages,\n",
    "        tokenize=False,\n",
    "        add_generation_prompt=True\n",
    "    )\n",
    "    model_inputs = tokenizer([text], return_tensors=\"pt\").to(device)\n",
    "\n",
    "    generated_ids = model.generate(\n",
    "        model_inputs.input_ids,\n",
    "        max_new_tokens=512\n",
    "    )\n",
    "    generated_ids = [\n",
    "        output_ids[len(input_ids):] for input_ids, output_ids in zip(model_inputs.input_ids, generated_ids)\n",
    "    ]\n",
    "\n",
    "    return tokenizer.batch_decode(generated_ids, skip_special_tokens=True)[0]"
   ]
  },
  {
   "cell_type": "code",
   "execution_count": 5,
   "metadata": {},
   "outputs": [],
   "source": [
    "response = chat('hello')"
   ]
  },
  {
   "cell_type": "code",
   "execution_count": 36,
   "metadata": {},
   "outputs": [
    {
     "data": {
      "text/plain": [
       "[{'instruction': '请您根据以下问题，参考相关参考选项进行作答。',\n",
       "  'input': '问题是:已知集合 A = {x | -5 < x^3 < 5}, B = {-3, -1, 0, 2, 3}，则 A ∩ B = (  ), 选项是:A: {-1, 0}, B: {2, 3}, C: {-3, -1, 0}, D: {-1, 0, 2}, 您的答案是:',\n",
       "  'output': 'A'},\n",
       " {'instruction': '请您根据以下问题，参考相关参考选项进行作答。',\n",
       "  'input': '问题是:若 z / (z - 1) = 1 + i，则 z = (  ), 选项是:A: -1 - i, B: -1 + i, C: 1 - i, D: 1 + i, 您的答案是:',\n",
       "  'output': 'C'},\n",
       " {'instruction': '请您根据以下问题，参考相关参考选项进行作答。',\n",
       "  'input': '问题是:已知向量 ā = (0, 1), b̄ = (2, x)，若 b̄ ⊥ (b̄ - 4ā)，则 x = (  ), 选项是:A: -2, B: -1, C: 1, D: 2, 您的答案是:',\n",
       "  'output': 'D'},\n",
       " {'instruction': '请您根据以下问题，参考相关参考选项进行作答。',\n",
       "  'input': '问题是:已知 cos(α + β) = m, tanαtan β = 2，则 cos(α - β) = (  ), 选项是:A: -3m, B: -m/3, C: m/3, D: 3m, 您的答案是:',\n",
       "  'output': 'A'},\n",
       " {'instruction': '请您根据以下问题，参考相关参考选项进行作答。',\n",
       "  'input': '问题是:已知圆柱和圆锥底面半径相等，侧面半径相等，且它们的高均为 √3，则圆锥的体积为 (  ), 选项是:A: 2√3π, B: 3√3π, C: 6√3π, D: 9√3π, 您的答案是:',\n",
       "  'output': 'B'},\n",
       " {'instruction': '请您根据以下问题，参考相关参考选项进行作答。',\n",
       "  'input': '问题是:已知函数 f(x) = { -x^2 - 2ax - a, x < 0; e^x + ln(x + 1), x ≥ 0 }，在 R 上单调递增，则 a 取值的范围是 (  ), 选项是:A: (-∞, 0], B: [-1, 0], C: [-1, 1], D: [0, +∞], 您的答案是:',\n",
       "  'output': 'B'},\n",
       " {'instruction': '请您根据以下问题，参考相关参考选项进行作答。',\n",
       "  'input': '问题是:当 x ∈ [0, 2π] 时，曲线 y = sin x 与 y = 2 sin (3x - π/6) 的交点个数为 (  ), 选项是:A: 3, B: 4, C: 6, D: 8, 您的答案是:',\n",
       "  'output': 'C'},\n",
       " {'instruction': '请您根据以下问题，参考相关参考选项进行作答。',\n",
       "  'input': '问题是:已知函数为 f(x) 的定义域为 R，f(x) > f(x - 1) + f(x - 2)，且当 x < 3 时 f(x) = x，则下列结论中一定正确的是 (  ), 选项是:A: f(10) > 100, B: f(20) > 1000, C: f(10) < 1000, D: f(20) < 10000, 您的答案是:',\n",
       "  'output': 'B'},\n",
       " {'instruction': '请您根据以下问题，参考相关参考选项进行作答，此题为多选题。',\n",
       "  'input': '问题是:为了理解动出口后的亩收入（单位：万元）情况，从该种植区抽取样本，得到推动出口后亩收入的样本均值 x̄ = 2.1，样本方差 s^2 = 0.01，已知该种植区以往的亩收入 X 服从正态分布 N(1.8, 0.1^2)，假设推动出口后的亩收入 Y 服从正态分布 N(x̄, s^2)，则 (  ) 若随机变量 Z 服从正态分布 N(u, σ^2)，P(Z < u + σ) ≈ 0.8413, 选项是:A: P(X > 2) > 0.2, B: P(X > 2) < 0.5, C: P(Y > 2) > 0.5, D: P(Y > 2) < 0.8, 您的答案是:',\n",
       "  'output': 'BC'},\n",
       " {'instruction': '请您根据以下问题，参考相关参考选项进行作答，此题为多选题。',\n",
       "  'input': '问题是:设函数 f(x) = (x - 1)^2(x - 4)，则 (  ), 选项是:A: x = 3 是 f(x) 的极小值点, B: 当 0 < x < 1 时，f(x) < f(x^2), C: 当 1 < x < 2 时，-4 < f(2x - 1) < 0, D: 当 -1 < x < 0 时，f(2 - x) > f(x), 您的答案是:',\n",
       "  'output': 'ACD'}]"
      ]
     },
     "execution_count": 36,
     "metadata": {},
     "output_type": "execute_result"
    }
   ],
   "source": [
    "with open('./Eval/dataset/GAOKAO_math.jsonl', 'r') as file:\n",
    "    content = json.load(file)\n",
    "content"
   ]
  },
  {
   "cell_type": "code",
   "execution_count": 37,
   "metadata": {},
   "outputs": [
    {
     "name": "stdout",
     "output_type": "stream",
     "text": [
      "The question is: 问题是:已知 cos(α + β) = m, tanαtan β = 2，则 cos(α - β) = (  ), 选项是:A: -3m, B: -m/3, C: m/3, D: 3m, 您的答案是:\n",
      "The prediction is:  为了找到 \\(\\cos(α - β)\\)，我们可以利用三角恒等式和已知信息。已知：\n",
      "\n",
      "1. \\(\\cos(α + β) = m\\)\n",
      "2. \\(\\tanα\\tanβ = 2\\)\n",
      "\n",
      "首先，我们知道 \\(\\cos(α + β) = \\cosα\\cosβ - \\sinα\\sinβ = m\\)。\n",
      "\n",
      "其次，利用 \\(\\tanα\\tanβ = 2\\)，可以转换为 \\(\\frac{\\sinα\\sinβ}{\\cosα\\cosβ} = 2\\)，从而得到 \\(\\sinα\\sinβ = 2\\cosα\\cosβ\\)。\n",
      "\n",
      "现在，我们需要求 \\(\\cos(α - β) = \\cosα\\cosβ + \\sinα\\sinβ\\)。\n",
      "\n",
      "将 \\(\\sinα\\sinβ\\) 替换为 \\(2\\cosα\\cosβ\\)：\n",
      "\n",
      "\\[\n",
      "\\cos(α - β) = \\cosα\\cosβ + 2\\cosα\\cosβ = 3\\cosα\\cosβ\n",
      "\\]\n",
      "\n",
      "我们还需要利用 \\(\\cos(α + β) = \\cosα\\cosβ - \\sinα\\sinβ = m\\) 来表示 \\(\\cosα\\cosβ\\) 和 \\(\\sinα\\sinβ\\) 的关系。但是，我们注意到直接从给定的条件出发，我们可以通过另一种方式来简化问题，即利用和差化积公式：\n",
      "\n",
      "\\[\n",
      "\\cos(α - β) = \\cosα\\cosβ + \\sinα\\sinβ = (\\cosα\\cosβ - \\sinα\\sinβ) + 2\\sinα\\sinβ\n",
      "\\]\n",
      "\n",
      "已知 \\(\\cos(α + β) = m\\)，我们可以进一步使用和差化积公式，即：\n",
      "\n",
      "\\[\n",
      "\\cos(α + β) = \\cosα\\cosβ - \\sinα\\sinβ = m\n",
      "\\]\n",
      "\n",
      "因此，我们有：\n",
      "\n",
      "\\[\n",
      "\\cos(α - β) = m + 2\\sinα\\sinβ\n",
      "\\]\n",
      "\n",
      "由于 \\(\\sinα\\sinβ = 2\\cosα\\cosβ\\)，我们需要找到一个方法来表示 \\(\\sinα\\sinβ\\) 与 \\(\\cosα\\cosβ\\) 的关系来简化表达式。考虑到 \\(\\cos(α + β) = m\\)，我们可以尝试利用已知的信息来推导\n",
      "The answer is:  A\n"
     ]
    }
   ],
   "source": [
    "idx = random.randint(0, len(content))\n",
    "instruction, question, answer = content[idx].values()\n",
    "prompt = '{question}'.format(question=question)\n",
    "response = chat(instruction, prompt)\n",
    "print(\"The question is:\", prompt)\n",
    "print(\"The prediction is: \", response)\n",
    "print(\"The answer is: \", answer)"
   ]
  },
  {
   "cell_type": "code",
   "execution_count": null,
   "metadata": {},
   "outputs": [],
   "source": []
  }
 ],
 "metadata": {
  "kernelspec": {
   "display_name": "xhr",
   "language": "python",
   "name": "python3"
  },
  "language_info": {
   "codemirror_mode": {
    "name": "ipython",
    "version": 3
   },
   "file_extension": ".py",
   "mimetype": "text/x-python",
   "name": "python",
   "nbconvert_exporter": "python",
   "pygments_lexer": "ipython3",
   "version": "3.9.18"
  }
 },
 "nbformat": 4,
 "nbformat_minor": 2
}
